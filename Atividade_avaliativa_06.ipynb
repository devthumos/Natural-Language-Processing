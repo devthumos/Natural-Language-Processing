{
  "nbformat": 4,
  "nbformat_minor": 0,
  "metadata": {
    "colab": {
      "name": "Atividade_avaliativa_06.ipynb",
      "provenance": [],
      "collapsed_sections": [],
      "authorship_tag": "ABX9TyPRy2U59iZT1Rnp21Fu+IHO",
      "include_colab_link": true
    },
    "kernelspec": {
      "name": "python3",
      "display_name": "Python 3"
    },
    "language_info": {
      "name": "python"
    }
  },
  "cells": [
    {
      "cell_type": "markdown",
      "metadata": {
        "id": "view-in-github",
        "colab_type": "text"
      },
      "source": [
        "<a href=\"https://colab.research.google.com/github/devthumos/Processamento_de_Linguagem_Natural/blob/main/Atividade_avaliativa_06.ipynb\" target=\"_parent\"><img src=\"https://colab.research.google.com/assets/colab-badge.svg\" alt=\"Open In Colab\"/></a>"
      ]
    },
    {
      "cell_type": "markdown",
      "source": [
        "# Atividade Avaliativa 06"
      ],
      "metadata": {
        "id": "3AZxkNzXCUnB"
      }
    },
    {
      "cell_type": "markdown",
      "source": [
        "## Treinando e Pegando o Output do Nosso Modelo, Bem Como o Nosso Dataset"
      ],
      "metadata": {
        "id": "McxdqD3pXuBG"
      }
    },
    {
      "cell_type": "code",
      "source": [
        "#!pip install keras\n",
        "#!pip install tensorflow"
      ],
      "metadata": {
        "id": "cgj0H5F3CrUd"
      },
      "execution_count": 73,
      "outputs": []
    },
    {
      "cell_type": "code",
      "source": [
        "import pandas as pd\n",
        "from keras.models import Sequential\n",
        "from keras.layers import Dense\n",
        "from sklearn.feature_extraction.text import TfidfVectorizer\n",
        "from tensorflow.keras.optimizers import SGD\n",
        "from keras.utils.np_utils import to_categorical\n",
        "import matplotlib.pyplot as plt"
      ],
      "metadata": {
        "id": "kLa3daEePeVT"
      },
      "execution_count": 74,
      "outputs": []
    },
    {
      "cell_type": "code",
      "source": [
        "path_train = 'https://raw.githubusercontent.com/viniciusrpb/cic0269_natural_language_processing/main/datasets/corpora/tweets_polarity_classification/twitter-2013train-A.txt'\n",
        "path_test = 'https://raw.githubusercontent.com/viniciusrpb/cic0269_natural_language_processing/main/datasets/corpora/tweets_polarity_classification/twitter-2013test-A.txt'\n",
        "path_valid = 'https://raw.githubusercontent.com/viniciusrpb/cic0269_natural_language_processing/main/datasets/corpora/tweets_polarity_classification/twitter-2013dev-A.txt'"
      ],
      "metadata": {
        "id": "kJ8N5yE_Nwm6"
      },
      "execution_count": 75,
      "outputs": []
    },
    {
      "cell_type": "code",
      "source": [
        "df_train = pd.read_csv(path_train,names=['id','polarity','text'],sep='\\t')\n",
        "df_valid = pd.read_csv(path_valid,names=['id','polarity','text'],sep='\\t')\n",
        "df_test = pd.read_csv(path_test,names=['id','polarity','text'],sep='\\t')"
      ],
      "metadata": {
        "id": "MWO6bS02PaeH"
      },
      "execution_count": 76,
      "outputs": []
    },
    {
      "cell_type": "code",
      "source": [
        "df_test"
      ],
      "metadata": {
        "colab": {
          "base_uri": "https://localhost:8080/",
          "height": 424
        },
        "id": "KEfJe3N5Pzpo",
        "outputId": "2b9269d1-a00b-4d48-ee0e-ab7615096b57"
      },
      "execution_count": 77,
      "outputs": [
        {
          "output_type": "execute_result",
          "data": {
            "text/plain": [
              "                      id  polarity  \\\n",
              "0     264238274963451904  positive   \n",
              "1     218775148495515649  positive   \n",
              "2     258965201766998017   neutral   \n",
              "3     262926411352903682  negative   \n",
              "4     171874368908050432   neutral   \n",
              "...                  ...       ...   \n",
              "3542  264233437060288512  negative   \n",
              "3543  263779058284904448   neutral   \n",
              "3544  250744453831213056  negative   \n",
              "3545  258679974591090688  positive   \n",
              "3546  243018372453916674   neutral   \n",
              "\n",
              "                                                   text  \n",
              "0     @jjuueellzz down in the Atlantic city, ventnor...  \n",
              "1     Musical awareness: Great Big Beautiful Tomorro...  \n",
              "2     On Radio786 100.4fm 7:10 Fri Oct 19 Labour ana...  \n",
              "3     Kapan sih lo ngebuktiin,jan ngomong doang Susa...  \n",
              "4     Excuse the connectivity of this live stream, f...  \n",
              "...                                                 ...  \n",
              "3542  Khaleda Zia's present India visit may have a b...  \n",
              "3543  FYI, golf fans: @jameslepp will join Moj on We...  \n",
              "3544  @__Aniko you think mr.Calle let practice with ...  \n",
              "3545  Don't hide under your desk! It's just a salsa ...  \n",
              "3546  Saturday flashmob on the music of The Runaways...  \n",
              "\n",
              "[3547 rows x 3 columns]"
            ],
            "text/html": [
              "\n",
              "  <div id=\"df-9082795c-015f-4546-a9fe-b2c69589bb04\">\n",
              "    <div class=\"colab-df-container\">\n",
              "      <div>\n",
              "<style scoped>\n",
              "    .dataframe tbody tr th:only-of-type {\n",
              "        vertical-align: middle;\n",
              "    }\n",
              "\n",
              "    .dataframe tbody tr th {\n",
              "        vertical-align: top;\n",
              "    }\n",
              "\n",
              "    .dataframe thead th {\n",
              "        text-align: right;\n",
              "    }\n",
              "</style>\n",
              "<table border=\"1\" class=\"dataframe\">\n",
              "  <thead>\n",
              "    <tr style=\"text-align: right;\">\n",
              "      <th></th>\n",
              "      <th>id</th>\n",
              "      <th>polarity</th>\n",
              "      <th>text</th>\n",
              "    </tr>\n",
              "  </thead>\n",
              "  <tbody>\n",
              "    <tr>\n",
              "      <th>0</th>\n",
              "      <td>264238274963451904</td>\n",
              "      <td>positive</td>\n",
              "      <td>@jjuueellzz down in the Atlantic city, ventnor...</td>\n",
              "    </tr>\n",
              "    <tr>\n",
              "      <th>1</th>\n",
              "      <td>218775148495515649</td>\n",
              "      <td>positive</td>\n",
              "      <td>Musical awareness: Great Big Beautiful Tomorro...</td>\n",
              "    </tr>\n",
              "    <tr>\n",
              "      <th>2</th>\n",
              "      <td>258965201766998017</td>\n",
              "      <td>neutral</td>\n",
              "      <td>On Radio786 100.4fm 7:10 Fri Oct 19 Labour ana...</td>\n",
              "    </tr>\n",
              "    <tr>\n",
              "      <th>3</th>\n",
              "      <td>262926411352903682</td>\n",
              "      <td>negative</td>\n",
              "      <td>Kapan sih lo ngebuktiin,jan ngomong doang Susa...</td>\n",
              "    </tr>\n",
              "    <tr>\n",
              "      <th>4</th>\n",
              "      <td>171874368908050432</td>\n",
              "      <td>neutral</td>\n",
              "      <td>Excuse the connectivity of this live stream, f...</td>\n",
              "    </tr>\n",
              "    <tr>\n",
              "      <th>...</th>\n",
              "      <td>...</td>\n",
              "      <td>...</td>\n",
              "      <td>...</td>\n",
              "    </tr>\n",
              "    <tr>\n",
              "      <th>3542</th>\n",
              "      <td>264233437060288512</td>\n",
              "      <td>negative</td>\n",
              "      <td>Khaleda Zia's present India visit may have a b...</td>\n",
              "    </tr>\n",
              "    <tr>\n",
              "      <th>3543</th>\n",
              "      <td>263779058284904448</td>\n",
              "      <td>neutral</td>\n",
              "      <td>FYI, golf fans: @jameslepp will join Moj on We...</td>\n",
              "    </tr>\n",
              "    <tr>\n",
              "      <th>3544</th>\n",
              "      <td>250744453831213056</td>\n",
              "      <td>negative</td>\n",
              "      <td>@__Aniko you think mr.Calle let practice with ...</td>\n",
              "    </tr>\n",
              "    <tr>\n",
              "      <th>3545</th>\n",
              "      <td>258679974591090688</td>\n",
              "      <td>positive</td>\n",
              "      <td>Don't hide under your desk! It's just a salsa ...</td>\n",
              "    </tr>\n",
              "    <tr>\n",
              "      <th>3546</th>\n",
              "      <td>243018372453916674</td>\n",
              "      <td>neutral</td>\n",
              "      <td>Saturday flashmob on the music of The Runaways...</td>\n",
              "    </tr>\n",
              "  </tbody>\n",
              "</table>\n",
              "<p>3547 rows × 3 columns</p>\n",
              "</div>\n",
              "      <button class=\"colab-df-convert\" onclick=\"convertToInteractive('df-9082795c-015f-4546-a9fe-b2c69589bb04')\"\n",
              "              title=\"Convert this dataframe to an interactive table.\"\n",
              "              style=\"display:none;\">\n",
              "        \n",
              "  <svg xmlns=\"http://www.w3.org/2000/svg\" height=\"24px\"viewBox=\"0 0 24 24\"\n",
              "       width=\"24px\">\n",
              "    <path d=\"M0 0h24v24H0V0z\" fill=\"none\"/>\n",
              "    <path d=\"M18.56 5.44l.94 2.06.94-2.06 2.06-.94-2.06-.94-.94-2.06-.94 2.06-2.06.94zm-11 1L8.5 8.5l.94-2.06 2.06-.94-2.06-.94L8.5 2.5l-.94 2.06-2.06.94zm10 10l.94 2.06.94-2.06 2.06-.94-2.06-.94-.94-2.06-.94 2.06-2.06.94z\"/><path d=\"M17.41 7.96l-1.37-1.37c-.4-.4-.92-.59-1.43-.59-.52 0-1.04.2-1.43.59L10.3 9.45l-7.72 7.72c-.78.78-.78 2.05 0 2.83L4 21.41c.39.39.9.59 1.41.59.51 0 1.02-.2 1.41-.59l7.78-7.78 2.81-2.81c.8-.78.8-2.07 0-2.86zM5.41 20L4 18.59l7.72-7.72 1.47 1.35L5.41 20z\"/>\n",
              "  </svg>\n",
              "      </button>\n",
              "      \n",
              "  <style>\n",
              "    .colab-df-container {\n",
              "      display:flex;\n",
              "      flex-wrap:wrap;\n",
              "      gap: 12px;\n",
              "    }\n",
              "\n",
              "    .colab-df-convert {\n",
              "      background-color: #E8F0FE;\n",
              "      border: none;\n",
              "      border-radius: 50%;\n",
              "      cursor: pointer;\n",
              "      display: none;\n",
              "      fill: #1967D2;\n",
              "      height: 32px;\n",
              "      padding: 0 0 0 0;\n",
              "      width: 32px;\n",
              "    }\n",
              "\n",
              "    .colab-df-convert:hover {\n",
              "      background-color: #E2EBFA;\n",
              "      box-shadow: 0px 1px 2px rgba(60, 64, 67, 0.3), 0px 1px 3px 1px rgba(60, 64, 67, 0.15);\n",
              "      fill: #174EA6;\n",
              "    }\n",
              "\n",
              "    [theme=dark] .colab-df-convert {\n",
              "      background-color: #3B4455;\n",
              "      fill: #D2E3FC;\n",
              "    }\n",
              "\n",
              "    [theme=dark] .colab-df-convert:hover {\n",
              "      background-color: #434B5C;\n",
              "      box-shadow: 0px 1px 3px 1px rgba(0, 0, 0, 0.15);\n",
              "      filter: drop-shadow(0px 1px 2px rgba(0, 0, 0, 0.3));\n",
              "      fill: #FFFFFF;\n",
              "    }\n",
              "  </style>\n",
              "\n",
              "      <script>\n",
              "        const buttonEl =\n",
              "          document.querySelector('#df-9082795c-015f-4546-a9fe-b2c69589bb04 button.colab-df-convert');\n",
              "        buttonEl.style.display =\n",
              "          google.colab.kernel.accessAllowed ? 'block' : 'none';\n",
              "\n",
              "        async function convertToInteractive(key) {\n",
              "          const element = document.querySelector('#df-9082795c-015f-4546-a9fe-b2c69589bb04');\n",
              "          const dataTable =\n",
              "            await google.colab.kernel.invokeFunction('convertToInteractive',\n",
              "                                                     [key], {});\n",
              "          if (!dataTable) return;\n",
              "\n",
              "          const docLinkHtml = 'Like what you see? Visit the ' +\n",
              "            '<a target=\"_blank\" href=https://colab.research.google.com/notebooks/data_table.ipynb>data table notebook</a>'\n",
              "            + ' to learn more about interactive tables.';\n",
              "          element.innerHTML = '';\n",
              "          dataTable['output_type'] = 'display_data';\n",
              "          await google.colab.output.renderOutput(dataTable, element);\n",
              "          const docLink = document.createElement('div');\n",
              "          docLink.innerHTML = docLinkHtml;\n",
              "          element.appendChild(docLink);\n",
              "        }\n",
              "      </script>\n",
              "    </div>\n",
              "  </div>\n",
              "  "
            ]
          },
          "metadata": {},
          "execution_count": 77
        }
      ]
    },
    {
      "cell_type": "code",
      "source": [
        "print(f'Train size {df_train.shape}')\n",
        "print(f'Valid size {df_valid.shape}')\n",
        "print(f'Test size {df_test.shape}')"
      ],
      "metadata": {
        "colab": {
          "base_uri": "https://localhost:8080/"
        },
        "id": "DSwe3wvLP_xb",
        "outputId": "928b02af-1de0-4612-e478-6786260514c5"
      },
      "execution_count": 78,
      "outputs": [
        {
          "output_type": "stream",
          "name": "stdout",
          "text": [
            "Train size (9684, 3)\n",
            "Valid size (1654, 3)\n",
            "Test size (3547, 3)\n"
          ]
        }
      ]
    },
    {
      "cell_type": "code",
      "source": [
        "df_train = df_train.drop(labels=['id'],axis=1)\n",
        "df_valid = df_valid.drop(labels=['id'],axis=1)\n",
        "df_test = df_test.drop(labels=['id'],axis=1)"
      ],
      "metadata": {
        "id": "JEEwUpt-Qa-o"
      },
      "execution_count": 79,
      "outputs": []
    },
    {
      "cell_type": "code",
      "source": [
        "vectorizer = TfidfVectorizer(norm=None,lowercase=True,stop_words=\"english\",max_df=0.95,min_df=2)\n",
        "\n",
        "vectorizer.fit(df_train['text'])\n",
        "\n",
        "tfidf_train = vectorizer.transform(df_train['text']).toarray()\n",
        "tfidf_valid = vectorizer.transform(df_valid['text']).toarray()\n",
        "tfidf_test = vectorizer.transform(df_test['text']).toarray()"
      ],
      "metadata": {
        "id": "dbtaZnFlRA8l"
      },
      "execution_count": 80,
      "outputs": []
    },
    {
      "cell_type": "code",
      "source": [
        "df_train['polarity'] = pd.Categorical(df_train['polarity'])\n",
        "y_train_int = df_train['polarity'].cat.codes\n",
        "\n",
        "df_valid['polarity'] = pd.Categorical(df_valid['polarity'])\n",
        "y_valid_int = df_valid['polarity'].cat.codes\n",
        "\n",
        "df_test['polarity'] = pd.Categorical(df_test['polarity'])\n",
        "y_test_int = df_test['polarity'].cat.codes"
      ],
      "metadata": {
        "id": "BrT8ydnGb4Eq"
      },
      "execution_count": 81,
      "outputs": []
    },
    {
      "cell_type": "code",
      "source": [
        "y_train = to_categorical(y_train_int)\n",
        "y_valid = to_categorical(y_valid_int)\n",
        "y_test = to_categorical(y_test_int)"
      ],
      "metadata": {
        "id": "V4Wd20UQdP9z"
      },
      "execution_count": 82,
      "outputs": []
    },
    {
      "cell_type": "code",
      "source": [
        ""
      ],
      "metadata": {
        "id": "9jjAj7fSdyP1"
      },
      "execution_count": 82,
      "outputs": []
    },
    {
      "cell_type": "code",
      "source": [
        "X_train = tfidf_train\n",
        "X_valid = tfidf_valid\n",
        "X_test = tfidf_test"
      ],
      "metadata": {
        "id": "7jC6GyCRbplq"
      },
      "execution_count": 83,
      "outputs": []
    },
    {
      "cell_type": "code",
      "source": [
        "N = tfidf_train.shape[0]\n",
        "vocab_size = tfidf_train.shape[1]\n",
        "print(f'Quantidade de instancias de treinamento {N} e tamanho do vocabulario {vocab_size}')"
      ],
      "metadata": {
        "colab": {
          "base_uri": "https://localhost:8080/"
        },
        "id": "vKP6m6AsXsql",
        "outputId": "6696f2c5-d528-4bf8-ed83-872a43185aa1"
      },
      "execution_count": 84,
      "outputs": [
        {
          "output_type": "stream",
          "name": "stdout",
          "text": [
            "Quantidade de instancias de treinamento 9684 e tamanho do vocabulario 7654\n"
          ]
        }
      ]
    },
    {
      "cell_type": "markdown",
      "source": [
        "Arquitetura da Rede Multilayer Perceptron Profunda"
      ],
      "metadata": {
        "id": "8ZBTwtGUR7oW"
      }
    },
    {
      "cell_type": "markdown",
      "source": [
        "Hyperparâmetros da rede"
      ],
      "metadata": {
        "id": "opRBBhsCTuiL"
      }
    },
    {
      "cell_type": "code",
      "source": [
        "number_of_neurons_layer1 = 20\n",
        "number_of_neurons_layer2 = 10\n",
        "number_of_neurons_output = 3\n",
        "lr = 0.01"
      ],
      "metadata": {
        "id": "knTDnztUTtyW"
      },
      "execution_count": 85,
      "outputs": []
    },
    {
      "cell_type": "code",
      "source": [
        "model = Sequential()\n",
        "# Input Layer\n",
        "model.add(Dense(number_of_neurons_layer1,input_dim=vocab_size,activation='sigmoid'))\n",
        "model.add(Dense(number_of_neurons_layer2,activation='sigmoid'))\n",
        "model.add(Dense(number_of_neurons_output,activation='softmax'))\n",
        "model.summary()"
      ],
      "metadata": {
        "colab": {
          "base_uri": "https://localhost:8080/"
        },
        "id": "lFnqMSwQR-C9",
        "outputId": "dc6b13fb-b0c0-42b1-8ce6-a7acd07ea98b"
      },
      "execution_count": 86,
      "outputs": [
        {
          "output_type": "stream",
          "name": "stdout",
          "text": [
            "Model: \"sequential_2\"\n",
            "_________________________________________________________________\n",
            " Layer (type)                Output Shape              Param #   \n",
            "=================================================================\n",
            " dense_6 (Dense)             (None, 20)                153100    \n",
            "                                                                 \n",
            " dense_7 (Dense)             (None, 10)                210       \n",
            "                                                                 \n",
            " dense_8 (Dense)             (None, 3)                 33        \n",
            "                                                                 \n",
            "=================================================================\n",
            "Total params: 153,343\n",
            "Trainable params: 153,343\n",
            "Non-trainable params: 0\n",
            "_________________________________________________________________\n"
          ]
        }
      ]
    },
    {
      "cell_type": "code",
      "source": [
        "sgd = SGD(learning_rate=lr)\n",
        "model.compile(optimizer=sgd,loss='categorical_crossentropy',metrics=['accuracy'])"
      ],
      "metadata": {
        "id": "NVCoUJfAZ21I"
      },
      "execution_count": 87,
      "outputs": []
    },
    {
      "cell_type": "code",
      "source": [
        "history = model.fit(X_train,y_train,validation_data=(X_valid,y_valid),epochs=50)"
      ],
      "metadata": {
        "colab": {
          "base_uri": "https://localhost:8080/"
        },
        "id": "6f4dinSJbXft",
        "outputId": "e80174bb-8719-4ba8-f642-e4421c92eb99"
      },
      "execution_count": 88,
      "outputs": [
        {
          "output_type": "stream",
          "name": "stdout",
          "text": [
            "Epoch 1/50\n",
            "303/303 [==============================] - 2s 6ms/step - loss: 1.0074 - accuracy: 0.4736 - val_loss: 1.0608 - val_accuracy: 0.4468\n",
            "Epoch 2/50\n",
            "303/303 [==============================] - 2s 5ms/step - loss: 1.0041 - accuracy: 0.4736 - val_loss: 1.0610 - val_accuracy: 0.4468\n",
            "Epoch 3/50\n",
            "303/303 [==============================] - 2s 5ms/step - loss: 1.0023 - accuracy: 0.4736 - val_loss: 1.0582 - val_accuracy: 0.4468\n",
            "Epoch 4/50\n",
            "303/303 [==============================] - 2s 5ms/step - loss: 1.0003 - accuracy: 0.4736 - val_loss: 1.0563 - val_accuracy: 0.4468\n",
            "Epoch 5/50\n",
            "303/303 [==============================] - 2s 5ms/step - loss: 0.9983 - accuracy: 0.4736 - val_loss: 1.0553 - val_accuracy: 0.4468\n",
            "Epoch 6/50\n",
            "303/303 [==============================] - 2s 5ms/step - loss: 0.9961 - accuracy: 0.4736 - val_loss: 1.0534 - val_accuracy: 0.4468\n",
            "Epoch 7/50\n",
            "303/303 [==============================] - 2s 6ms/step - loss: 0.9937 - accuracy: 0.4736 - val_loss: 1.0539 - val_accuracy: 0.4468\n",
            "Epoch 8/50\n",
            "303/303 [==============================] - 2s 5ms/step - loss: 0.9909 - accuracy: 0.4736 - val_loss: 1.0507 - val_accuracy: 0.4468\n",
            "Epoch 9/50\n",
            "303/303 [==============================] - 2s 5ms/step - loss: 0.9877 - accuracy: 0.4744 - val_loss: 1.0478 - val_accuracy: 0.4474\n",
            "Epoch 10/50\n",
            "303/303 [==============================] - 2s 5ms/step - loss: 0.9839 - accuracy: 0.4770 - val_loss: 1.0441 - val_accuracy: 0.4480\n",
            "Epoch 11/50\n",
            "303/303 [==============================] - 2s 5ms/step - loss: 0.9798 - accuracy: 0.4784 - val_loss: 1.0409 - val_accuracy: 0.4637\n",
            "Epoch 12/50\n",
            "303/303 [==============================] - 2s 5ms/step - loss: 0.9748 - accuracy: 0.4938 - val_loss: 1.0373 - val_accuracy: 0.4547\n",
            "Epoch 13/50\n",
            "303/303 [==============================] - 2s 5ms/step - loss: 0.9691 - accuracy: 0.5051 - val_loss: 1.0330 - val_accuracy: 0.4601\n",
            "Epoch 14/50\n",
            "303/303 [==============================] - 2s 5ms/step - loss: 0.9624 - accuracy: 0.5204 - val_loss: 1.0270 - val_accuracy: 0.4940\n",
            "Epoch 15/50\n",
            "303/303 [==============================] - 2s 5ms/step - loss: 0.9544 - accuracy: 0.5484 - val_loss: 1.0219 - val_accuracy: 0.5024\n",
            "Epoch 16/50\n",
            "303/303 [==============================] - 2s 5ms/step - loss: 0.9452 - accuracy: 0.5722 - val_loss: 1.0144 - val_accuracy: 0.5151\n",
            "Epoch 17/50\n",
            "303/303 [==============================] - 2s 5ms/step - loss: 0.9345 - accuracy: 0.5887 - val_loss: 1.0065 - val_accuracy: 0.5496\n",
            "Epoch 18/50\n",
            "303/303 [==============================] - 2s 5ms/step - loss: 0.9221 - accuracy: 0.6146 - val_loss: 0.9993 - val_accuracy: 0.5550\n",
            "Epoch 19/50\n",
            "303/303 [==============================] - 2s 5ms/step - loss: 0.9081 - accuracy: 0.6295 - val_loss: 0.9862 - val_accuracy: 0.5647\n",
            "Epoch 20/50\n",
            "303/303 [==============================] - 2s 5ms/step - loss: 0.8927 - accuracy: 0.6421 - val_loss: 0.9777 - val_accuracy: 0.5665\n",
            "Epoch 21/50\n",
            "303/303 [==============================] - 2s 5ms/step - loss: 0.8756 - accuracy: 0.6527 - val_loss: 0.9657 - val_accuracy: 0.5774\n",
            "Epoch 22/50\n",
            "303/303 [==============================] - 2s 5ms/step - loss: 0.8573 - accuracy: 0.6614 - val_loss: 0.9547 - val_accuracy: 0.5846\n",
            "Epoch 23/50\n",
            "303/303 [==============================] - 2s 5ms/step - loss: 0.8380 - accuracy: 0.6687 - val_loss: 0.9420 - val_accuracy: 0.5931\n",
            "Epoch 24/50\n",
            "303/303 [==============================] - 2s 5ms/step - loss: 0.8184 - accuracy: 0.6805 - val_loss: 0.9310 - val_accuracy: 0.5901\n",
            "Epoch 25/50\n",
            "303/303 [==============================] - 2s 8ms/step - loss: 0.7984 - accuracy: 0.6841 - val_loss: 0.9198 - val_accuracy: 0.5937\n",
            "Epoch 26/50\n",
            "303/303 [==============================] - 2s 6ms/step - loss: 0.7783 - accuracy: 0.6912 - val_loss: 0.9090 - val_accuracy: 0.5979\n",
            "Epoch 27/50\n",
            "303/303 [==============================] - 2s 8ms/step - loss: 0.7585 - accuracy: 0.6975 - val_loss: 0.8985 - val_accuracy: 0.6016\n",
            "Epoch 28/50\n",
            "303/303 [==============================] - 2s 6ms/step - loss: 0.7389 - accuracy: 0.7045 - val_loss: 0.8892 - val_accuracy: 0.6046\n",
            "Epoch 29/50\n",
            "303/303 [==============================] - 2s 5ms/step - loss: 0.7197 - accuracy: 0.7102 - val_loss: 0.8799 - val_accuracy: 0.6094\n",
            "Epoch 30/50\n",
            "303/303 [==============================] - 2s 5ms/step - loss: 0.7009 - accuracy: 0.7167 - val_loss: 0.8738 - val_accuracy: 0.6082\n",
            "Epoch 31/50\n",
            "303/303 [==============================] - 2s 6ms/step - loss: 0.6824 - accuracy: 0.7230 - val_loss: 0.8678 - val_accuracy: 0.6167\n",
            "Epoch 32/50\n",
            "303/303 [==============================] - 2s 6ms/step - loss: 0.6645 - accuracy: 0.7319 - val_loss: 0.8610 - val_accuracy: 0.6167\n",
            "Epoch 33/50\n",
            "303/303 [==============================] - 2s 6ms/step - loss: 0.6467 - accuracy: 0.7393 - val_loss: 0.8555 - val_accuracy: 0.6167\n",
            "Epoch 34/50\n",
            "303/303 [==============================] - 2s 5ms/step - loss: 0.6295 - accuracy: 0.7464 - val_loss: 0.8516 - val_accuracy: 0.6227\n",
            "Epoch 35/50\n",
            "303/303 [==============================] - 2s 5ms/step - loss: 0.6124 - accuracy: 0.7538 - val_loss: 0.8481 - val_accuracy: 0.6227\n",
            "Epoch 36/50\n",
            "303/303 [==============================] - 2s 5ms/step - loss: 0.5957 - accuracy: 0.7617 - val_loss: 0.8450 - val_accuracy: 0.6233\n",
            "Epoch 37/50\n",
            "303/303 [==============================] - 2s 5ms/step - loss: 0.5793 - accuracy: 0.7689 - val_loss: 0.8440 - val_accuracy: 0.6233\n",
            "Epoch 38/50\n",
            "303/303 [==============================] - 2s 6ms/step - loss: 0.5633 - accuracy: 0.7790 - val_loss: 0.8407 - val_accuracy: 0.6239\n",
            "Epoch 39/50\n",
            "303/303 [==============================] - 2s 5ms/step - loss: 0.5474 - accuracy: 0.7884 - val_loss: 0.8431 - val_accuracy: 0.6245\n",
            "Epoch 40/50\n",
            "303/303 [==============================] - 2s 6ms/step - loss: 0.5318 - accuracy: 0.7920 - val_loss: 0.8398 - val_accuracy: 0.6252\n",
            "Epoch 41/50\n",
            "303/303 [==============================] - 2s 5ms/step - loss: 0.5166 - accuracy: 0.8014 - val_loss: 0.8402 - val_accuracy: 0.6306\n",
            "Epoch 42/50\n",
            "303/303 [==============================] - 2s 6ms/step - loss: 0.5016 - accuracy: 0.8098 - val_loss: 0.8427 - val_accuracy: 0.6276\n",
            "Epoch 43/50\n",
            "303/303 [==============================] - 2s 5ms/step - loss: 0.4869 - accuracy: 0.8181 - val_loss: 0.8424 - val_accuracy: 0.6288\n",
            "Epoch 44/50\n",
            "303/303 [==============================] - 2s 5ms/step - loss: 0.4727 - accuracy: 0.8249 - val_loss: 0.8464 - val_accuracy: 0.6276\n",
            "Epoch 45/50\n",
            "303/303 [==============================] - 2s 5ms/step - loss: 0.4583 - accuracy: 0.8312 - val_loss: 0.8528 - val_accuracy: 0.6270\n",
            "Epoch 46/50\n",
            "303/303 [==============================] - 2s 5ms/step - loss: 0.4447 - accuracy: 0.8401 - val_loss: 0.8516 - val_accuracy: 0.6276\n",
            "Epoch 47/50\n",
            "303/303 [==============================] - 2s 6ms/step - loss: 0.4312 - accuracy: 0.8449 - val_loss: 0.8565 - val_accuracy: 0.6288\n",
            "Epoch 48/50\n",
            "303/303 [==============================] - 2s 6ms/step - loss: 0.4181 - accuracy: 0.8517 - val_loss: 0.8637 - val_accuracy: 0.6264\n",
            "Epoch 49/50\n",
            "303/303 [==============================] - 2s 5ms/step - loss: 0.4051 - accuracy: 0.8568 - val_loss: 0.8662 - val_accuracy: 0.6324\n",
            "Epoch 50/50\n",
            "303/303 [==============================] - 2s 6ms/step - loss: 0.3930 - accuracy: 0.8636 - val_loss: 0.8767 - val_accuracy: 0.6306\n"
          ]
        }
      ]
    },
    {
      "cell_type": "code",
      "source": [
        "plt.plot(history.history['loss'])\n",
        "plt.plot(history.history['val_loss'])\n",
        "plt.title('Model loss')\n",
        "plt.ylabel('Loss')\n",
        "plt.xlabel('Epoch')\n",
        "plt.legend(['Train', 'Validation'], loc='upper left')\n",
        "plt.show()"
      ],
      "metadata": {
        "colab": {
          "base_uri": "https://localhost:8080/",
          "height": 295
        },
        "id": "OJHj7NfRfJrS",
        "outputId": "65e30198-56d8-4b02-8d61-850997684cdc"
      },
      "execution_count": 89,
      "outputs": [
        {
          "output_type": "display_data",
          "data": {
            "text/plain": [
              "<Figure size 432x288 with 1 Axes>"
            ],
            "image/png": "[encoded data removed]"
          },
          "metadata": {
            "needs_background": "light"
          }
        }
      ]
    },
    {
      "cell_type": "code",
      "source": [
        "plt.plot(history.history['accuracy'])\n",
        "plt.plot(history.history['val_accuracy'])\n",
        "plt.title('Model acc')\n",
        "plt.ylabel('Accuracy')\n",
        "plt.xlabel('Epoch')\n",
        "plt.legend(['Train', 'Validation'], loc='upper left')\n",
        "plt.show()"
      ],
      "metadata": {
        "colab": {
          "base_uri": "https://localhost:8080/",
          "height": 295
        },
        "id": "cUKzQDzCgdVX",
        "outputId": "900a761a-1880-40fa-9633-73f2048bd9cb"
      },
      "execution_count": 90,
      "outputs": [
        {
          "output_type": "display_data",
          "data": {
            "text/plain": [
              "<Figure size 432x288 with 1 Axes>"
            ],
            "image/png": "[encoded data removed]"
          },
          "metadata": {
            "needs_background": "light"
          }
        }
      ]
    },
    {
      "cell_type": "markdown",
      "source": [
        "Avaliação com os Dados de Teste"
      ],
      "metadata": {
        "id": "QP7yxTEPg1Nv"
      }
    },
    {
      "cell_type": "code",
      "source": [
        "y = model.evaluate(X_test,y_test)"
      ],
      "metadata": {
        "colab": {
          "base_uri": "https://localhost:8080/"
        },
        "id": "yM-hXxVtg4J2",
        "outputId": "643816dd-d9b7-4bd0-8106-53a91681a1cd"
      },
      "execution_count": 91,
      "outputs": [
        {
          "output_type": "stream",
          "name": "stdout",
          "text": [
            "111/111 [==============================] - 0s 3ms/step - loss: 0.8715 - accuracy: 0.6386\n"
          ]
        }
      ]
    },
    {
      "cell_type": "code",
      "source": [
        "import numpy as np\n",
        "y_prob = model.predict(X_test)\n",
        "y_prob"
      ],
      "metadata": {
        "colab": {
          "base_uri": "https://localhost:8080/"
        },
        "id": "u42IOHfzlCnM",
        "outputId": "02c22528-a906-4761-8992-a44bdbaf0239"
      },
      "execution_count": 92,
      "outputs": [
        {
          "output_type": "execute_result",
          "data": {
            "text/plain": [
              "array([[0.06137656, 0.25716293, 0.68146044],\n",
              "       [0.00877249, 0.01264465, 0.97858286],\n",
              "       [0.05635149, 0.8890481 , 0.05460039],\n",
              "       ...,\n",
              "       [0.10961959, 0.56730855, 0.3230719 ],\n",
              "       [0.1262562 , 0.12723716, 0.74650675],\n",
              "       [0.11624414, 0.5490354 , 0.33472058]], dtype=float32)"
            ]
          },
          "metadata": {},
          "execution_count": 92
        }
      ]
    },
    {
      "cell_type": "code",
      "source": [
        "y_pred = np.argmax(y_prob,axis=1)\n",
        "y_pred"
      ],
      "metadata": {
        "colab": {
          "base_uri": "https://localhost:8080/"
        },
        "id": "zJDx8GlRlyPz",
        "outputId": "a49cdf8a-68fb-49c2-9a5c-572f97a1e9ec"
      },
      "execution_count": 93,
      "outputs": [
        {
          "output_type": "execute_result",
          "data": {
            "text/plain": [
              "array([2, 2, 1, ..., 1, 2, 1])"
            ]
          },
          "metadata": {},
          "execution_count": 93
        }
      ]
    },
    {
      "cell_type": "markdown",
      "source": [
        "## Obtendo a Acurácia, Matriz de Confusão, Precisão, Revogação e F1 com Relação à Classificação do Nosso Modelo"
      ],
      "metadata": {
        "id": "Fv7zdGAuYLj1"
      }
    },
    {
      "cell_type": "code",
      "source": [
        "y_test_int"
      ],
      "metadata": {
        "colab": {
          "base_uri": "https://localhost:8080/"
        },
        "id": "yTsaRqgVllE3",
        "outputId": "5969e755-19ee-42e9-a40a-a4171b31a5f6"
      },
      "execution_count": 170,
      "outputs": [
        {
          "output_type": "execute_result",
          "data": {
            "text/plain": [
              "0       2\n",
              "1       2\n",
              "2       1\n",
              "3       0\n",
              "4       1\n",
              "       ..\n",
              "3542    0\n",
              "3543    1\n",
              "3544    0\n",
              "3545    2\n",
              "3546    1\n",
              "Length: 3547, dtype: int8"
            ]
          },
          "metadata": {},
          "execution_count": 170
        }
      ]
    },
    {
      "cell_type": "code",
      "source": [
        "y_pred"
      ],
      "metadata": {
        "colab": {
          "base_uri": "https://localhost:8080/"
        },
        "id": "BHGTjTpNKjn8",
        "outputId": "97d26688-af9c-4a52-a62a-f7f5d78069c9"
      },
      "execution_count": 171,
      "outputs": [
        {
          "output_type": "execute_result",
          "data": {
            "text/plain": [
              "array([2, 2, 1, ..., 1, 2, 1])"
            ]
          },
          "metadata": {},
          "execution_count": 171
        }
      ]
    },
    {
      "cell_type": "markdown",
      "source": [
        "### Matriz de Confusão e Realizando a Contagem das Classificações"
      ],
      "metadata": {
        "id": "kVEHoRWCYfDu"
      }
    },
    {
      "cell_type": "code",
      "source": [
        "dict_count = {}\n",
        "confusion_matrix = np.zeros((3, 3))\n",
        "#  +  - .\n",
        "#+\n",
        "#-\n",
        "#.\n",
        "for row in range(y_test_int.shape[0]):\n",
        "  confusion_matrix[y_test_int[row], y_pred[row]] += 1\n",
        "  try:\n",
        "    dict_count[y_test_int[row]] += 1\n",
        "  except:\n",
        "    dict_count[y_test_int[row]] = 1"
      ],
      "metadata": {
        "id": "HbqJhkTtKvoh"
      },
      "execution_count": 172,
      "outputs": []
    },
    {
      "cell_type": "code",
      "source": [
        "confusion_matrix"
      ],
      "metadata": {
        "colab": {
          "base_uri": "https://localhost:8080/"
        },
        "id": "J_954VPpMs76",
        "outputId": "e05eb218-26d3-4a95-b0b6-20c8a1434488"
      },
      "execution_count": 173,
      "outputs": [
        {
          "output_type": "execute_result",
          "data": {
            "text/plain": [
              "array([[  88.,  362.,  109.],\n",
              "       [  16., 1238.,  259.],\n",
              "       [  19.,  517.,  939.]])"
            ]
          },
          "metadata": {},
          "execution_count": 173
        }
      ]
    },
    {
      "cell_type": "code",
      "source": [
        "dict_count"
      ],
      "metadata": {
        "colab": {
          "base_uri": "https://localhost:8080/"
        },
        "id": "zXR7fPP1XeXe",
        "outputId": "ec473d25-1a66-49d5-e86d-b907c518f33e"
      },
      "execution_count": 174,
      "outputs": [
        {
          "output_type": "execute_result",
          "data": {
            "text/plain": [
              "{0: 559, 1: 1513, 2: 1475}"
            ]
          },
          "metadata": {},
          "execution_count": 174
        }
      ]
    },
    {
      "cell_type": "markdown",
      "source": [
        "### Acurácia do nosso modelo"
      ],
      "metadata": {
        "id": "0NVPs1BAYot1"
      }
    },
    {
      "cell_type": "code",
      "source": [
        "acc = 0\n",
        "for row in range(confusion_matrix.shape[0]):\n",
        "  acc += confusion_matrix[row, row]\n",
        "\n",
        "acc /= y_test_int.shape[0]\n",
        "acc"
      ],
      "metadata": {
        "colab": {
          "base_uri": "https://localhost:8080/"
        },
        "id": "f4KOG-SfQnML",
        "outputId": "263bc3d7-67b7-4ca3-dcc4-890c87dab261"
      },
      "execution_count": 175,
      "outputs": [
        {
          "output_type": "execute_result",
          "data": {
            "text/plain": [
              "0.6385678037778404"
            ]
          },
          "metadata": {},
          "execution_count": 175
        }
      ]
    },
    {
      "cell_type": "markdown",
      "source": [
        "### Obtendo a Precisão, Revogação e F1 de Cada Classe, Bem Como o Support"
      ],
      "metadata": {
        "id": "9k2FFpIES9-y"
      }
    },
    {
      "cell_type": "code",
      "source": [
        "Pr = 0\n",
        "Rv = 0\n",
        "\n",
        "classification_report = pd.DataFrame(np.zeros((3, 3)), columns=[\"Precision\", \"Recall\", \"F1-Score\"])\n",
        "\n",
        "for row in range(confusion_matrix.shape[0]):\n",
        "  Pr = confusion_matrix[row, row]\n",
        "  Rv = confusion_matrix[row, row]\n",
        "  Prsum = 0\n",
        "  Rvsum = 0\n",
        "  for k in range(confusion_matrix.shape[0]):\n",
        "      Prsum += confusion_matrix[k, row]\n",
        "      Rvsum += confusion_matrix[row, k]\n",
        "  Pr /= Prsum\n",
        "  Rv /= Rvsum\n",
        "  F1 = 2 * Pr * Rv / (Pr + Rv)\n",
        "\n",
        "  print(f\"ROW {row}\", Pr, Rv, F1)\n",
        "  classification_report.Precision.iloc[row] = Pr\n",
        "  classification_report.Recall.iloc[row] = Rv\n",
        "  classification_report[\"F1-Score\"].iloc[row] = F1"
      ],
      "metadata": {
        "colab": {
          "base_uri": "https://localhost:8080/"
        },
        "id": "7Zg9IGLWTUtL",
        "outputId": "c2ccd910-a8cf-406f-c1c6-4b8a040321c6"
      },
      "execution_count": 176,
      "outputs": [
        {
          "output_type": "stream",
          "name": "stdout",
          "text": [
            "ROW 0 0.7154471544715447 0.15742397137745975 0.25806451612903225\n",
            "ROW 1 0.5847897968823808 0.8182419035029742 0.6820936639118458\n",
            "ROW 2 0.7184391736801836 0.6366101694915254 0.6750539180445722\n"
          ]
        }
      ]
    },
    {
      "cell_type": "code",
      "source": [
        "classification_report[\"Support\"] = classification_report.index.map(dict_count)"
      ],
      "metadata": {
        "id": "XfW1pzW_V6xM"
      },
      "execution_count": 177,
      "outputs": []
    },
    {
      "cell_type": "code",
      "source": [
        "classification_report"
      ],
      "metadata": {
        "colab": {
          "base_uri": "https://localhost:8080/",
          "height": 143
        },
        "id": "AQU8hHw8Zmtf",
        "outputId": "790f5fab-e3f7-4baf-9a83-40e0bc7741d7"
      },
      "execution_count": 178,
      "outputs": [
        {
          "output_type": "execute_result",
          "data": {
            "text/plain": [
              "   Precision    Recall  F1-Score  Support\n",
              "0   0.715447  0.157424  0.258065      559\n",
              "1   0.584790  0.818242  0.682094     1513\n",
              "2   0.718439  0.636610  0.675054     1475"
            ],
            "text/html": [
              "\n",
              "  <div id=\"df-c64441d4-5e5b-49ce-b0f3-3c309b5df7f6\">\n",
              "    <div class=\"colab-df-container\">\n",
              "      <div>\n",
              "<style scoped>\n",
              "    .dataframe tbody tr th:only-of-type {\n",
              "        vertical-align: middle;\n",
              "    }\n",
              "\n",
              "    .dataframe tbody tr th {\n",
              "        vertical-align: top;\n",
              "    }\n",
              "\n",
              "    .dataframe thead th {\n",
              "        text-align: right;\n",
              "    }\n",
              "</style>\n",
              "<table border=\"1\" class=\"dataframe\">\n",
              "  <thead>\n",
              "    <tr style=\"text-align: right;\">\n",
              "      <th></th>\n",
              "      <th>Precision</th>\n",
              "      <th>Recall</th>\n",
              "      <th>F1-Score</th>\n",
              "      <th>Support</th>\n",
              "    </tr>\n",
              "  </thead>\n",
              "  <tbody>\n",
              "    <tr>\n",
              "      <th>0</th>\n",
              "      <td>0.715447</td>\n",
              "      <td>0.157424</td>\n",
              "      <td>0.258065</td>\n",
              "      <td>559</td>\n",
              "    </tr>\n",
              "    <tr>\n",
              "      <th>1</th>\n",
              "      <td>0.584790</td>\n",
              "      <td>0.818242</td>\n",
              "      <td>0.682094</td>\n",
              "      <td>1513</td>\n",
              "    </tr>\n",
              "    <tr>\n",
              "      <th>2</th>\n",
              "      <td>0.718439</td>\n",
              "      <td>0.636610</td>\n",
              "      <td>0.675054</td>\n",
              "      <td>1475</td>\n",
              "    </tr>\n",
              "  </tbody>\n",
              "</table>\n",
              "</div>\n",
              "      <button class=\"colab-df-convert\" onclick=\"convertToInteractive('df-c64441d4-5e5b-49ce-b0f3-3c309b5df7f6')\"\n",
              "              title=\"Convert this dataframe to an interactive table.\"\n",
              "              style=\"display:none;\">\n",
              "        \n",
              "  <svg xmlns=\"http://www.w3.org/2000/svg\" height=\"24px\"viewBox=\"0 0 24 24\"\n",
              "       width=\"24px\">\n",
              "    <path d=\"M0 0h24v24H0V0z\" fill=\"none\"/>\n",
              "    <path d=\"M18.56 5.44l.94 2.06.94-2.06 2.06-.94-2.06-.94-.94-2.06-.94 2.06-2.06.94zm-11 1L8.5 8.5l.94-2.06 2.06-.94-2.06-.94L8.5 2.5l-.94 2.06-2.06.94zm10 10l.94 2.06.94-2.06 2.06-.94-2.06-.94-.94-2.06-.94 2.06-2.06.94z\"/><path d=\"M17.41 7.96l-1.37-1.37c-.4-.4-.92-.59-1.43-.59-.52 0-1.04.2-1.43.59L10.3 9.45l-7.72 7.72c-.78.78-.78 2.05 0 2.83L4 21.41c.39.39.9.59 1.41.59.51 0 1.02-.2 1.41-.59l7.78-7.78 2.81-2.81c.8-.78.8-2.07 0-2.86zM5.41 20L4 18.59l7.72-7.72 1.47 1.35L5.41 20z\"/>\n",
              "  </svg>\n",
              "      </button>\n",
              "      \n",
              "  <style>\n",
              "    .colab-df-container {\n",
              "      display:flex;\n",
              "      flex-wrap:wrap;\n",
              "      gap: 12px;\n",
              "    }\n",
              "\n",
              "    .colab-df-convert {\n",
              "      background-color: #E8F0FE;\n",
              "      border: none;\n",
              "      border-radius: 50%;\n",
              "      cursor: pointer;\n",
              "      display: none;\n",
              "      fill: #1967D2;\n",
              "      height: 32px;\n",
              "      padding: 0 0 0 0;\n",
              "      width: 32px;\n",
              "    }\n",
              "\n",
              "    .colab-df-convert:hover {\n",
              "      background-color: #E2EBFA;\n",
              "      box-shadow: 0px 1px 2px rgba(60, 64, 67, 0.3), 0px 1px 3px 1px rgba(60, 64, 67, 0.15);\n",
              "      fill: #174EA6;\n",
              "    }\n",
              "\n",
              "    [theme=dark] .colab-df-convert {\n",
              "      background-color: #3B4455;\n",
              "      fill: #D2E3FC;\n",
              "    }\n",
              "\n",
              "    [theme=dark] .colab-df-convert:hover {\n",
              "      background-color: #434B5C;\n",
              "      box-shadow: 0px 1px 3px 1px rgba(0, 0, 0, 0.15);\n",
              "      filter: drop-shadow(0px 1px 2px rgba(0, 0, 0, 0.3));\n",
              "      fill: #FFFFFF;\n",
              "    }\n",
              "  </style>\n",
              "\n",
              "      <script>\n",
              "        const buttonEl =\n",
              "          document.querySelector('#df-c64441d4-5e5b-49ce-b0f3-3c309b5df7f6 button.colab-df-convert');\n",
              "        buttonEl.style.display =\n",
              "          google.colab.kernel.accessAllowed ? 'block' : 'none';\n",
              "\n",
              "        async function convertToInteractive(key) {\n",
              "          const element = document.querySelector('#df-c64441d4-5e5b-49ce-b0f3-3c309b5df7f6');\n",
              "          const dataTable =\n",
              "            await google.colab.kernel.invokeFunction('convertToInteractive',\n",
              "                                                     [key], {});\n",
              "          if (!dataTable) return;\n",
              "\n",
              "          const docLinkHtml = 'Like what you see? Visit the ' +\n",
              "            '<a target=\"_blank\" href=https://colab.research.google.com/notebooks/data_table.ipynb>data table notebook</a>'\n",
              "            + ' to learn more about interactive tables.';\n",
              "          element.innerHTML = '';\n",
              "          dataTable['output_type'] = 'display_data';\n",
              "          await google.colab.output.renderOutput(dataTable, element);\n",
              "          const docLink = document.createElement('div');\n",
              "          docLink.innerHTML = docLinkHtml;\n",
              "          element.appendChild(docLink);\n",
              "        }\n",
              "      </script>\n",
              "    </div>\n",
              "  </div>\n",
              "  "
            ]
          },
          "metadata": {},
          "execution_count": 178
        }
      ]
    },
    {
      "cell_type": "markdown",
      "source": [
        "## Comparando a Matriz de Confusão, Acurácia e Reporte de Classificação"
      ],
      "metadata": {
        "id": "EZLyU1sXTend"
      }
    },
    {
      "cell_type": "code",
      "source": [
        "from sklearn.metrics import classification_report as cr, accuracy_score as acs, confusion_matrix as cm\n",
        "\n",
        "## Para o formato do nosso classification report ficar parecido com o do sklearn\n",
        "for i in classification_report:\n",
        "  classification_report[i] = classification_report[i].apply(lambda sentence: f\"{sentence:.2f}\" if type(sentence) != int else sentence)\n",
        "\n",
        "print(cr(y_test_int, y_pred)) ## sklearn\n",
        "print(classification_report)  ## nosso"
      ],
      "metadata": {
        "colab": {
          "base_uri": "https://localhost:8080/"
        },
        "id": "uizvOF9OThPe",
        "outputId": "305309a6-29e8-4751-8e3d-b713d87c68d5"
      },
      "execution_count": 179,
      "outputs": [
        {
          "output_type": "stream",
          "name": "stdout",
          "text": [
            "              precision    recall  f1-score   support\n",
            "\n",
            "           0       0.72      0.16      0.26       559\n",
            "           1       0.58      0.82      0.68      1513\n",
            "           2       0.72      0.64      0.68      1475\n",
            "\n",
            "    accuracy                           0.64      3547\n",
            "   macro avg       0.67      0.54      0.54      3547\n",
            "weighted avg       0.66      0.64      0.61      3547\n",
            "\n",
            "  Precision Recall F1-Score  Support\n",
            "0      0.72   0.16     0.26      559\n",
            "1      0.58   0.82     0.68     1513\n",
            "2      0.72   0.64     0.68     1475\n"
          ]
        }
      ]
    },
    {
      "cell_type": "code",
      "source": [
        "print(cm(y_test_int, y_pred))  ## sklearn\n",
        "print(confusion_matrix)        ## nosso"
      ],
      "metadata": {
        "id": "YJKTRMArVN9F",
        "colab": {
          "base_uri": "https://localhost:8080/"
        },
        "outputId": "83129cc9-4143-4249-c19d-b5b81611d652"
      },
      "execution_count": 180,
      "outputs": [
        {
          "output_type": "stream",
          "name": "stdout",
          "text": [
            "[[  88  362  109]\n",
            " [  16 1238  259]\n",
            " [  19  517  939]]\n",
            "[[  88.  362.  109.]\n",
            " [  16. 1238.  259.]\n",
            " [  19.  517.  939.]]\n"
          ]
        }
      ]
    },
    {
      "cell_type": "code",
      "source": [
        "print(acs(y_test_int, y_pred))  ## sklearn\n",
        "print(acc)                      ## nosso"
      ],
      "metadata": {
        "colab": {
          "base_uri": "https://localhost:8080/"
        },
        "id": "Z3NJU8mGZaD1",
        "outputId": "60e2e485-738b-48c9-b430-cf37f9fdd75a"
      },
      "execution_count": 181,
      "outputs": [
        {
          "output_type": "stream",
          "name": "stdout",
          "text": [
            "0.6385678037778404\n",
            "0.6385678037778404\n"
          ]
        }
      ]
    }
  ]
}