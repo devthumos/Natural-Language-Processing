{
  "nbformat": 4,
  "nbformat_minor": 0,
  "metadata": {
    "colab": {
      "name": "Atividade_Avaliativa__04.ipynb",
      "provenance": [],
      "collapsed_sections": [],
      "authorship_tag": "ABX9TyN7UY9JltrrQfQE2855pf1X",
      "include_colab_link": true
    },
    "kernelspec": {
      "name": "python3",
      "display_name": "Python 3"
    },
    "language_info": {
      "name": "python"
    }
  },
  "cells": [
    {
      "cell_type": "markdown",
      "metadata": {
        "id": "view-in-github",
        "colab_type": "text"
      },
      "source": [
        "<a href=\"https://colab.research.google.com/github/devthumos/Processamento_de_Linguagem_Natural/blob/main/Atividade_Avaliativa__04.ipynb\" target=\"_parent\"><img src=\"https://colab.research.google.com/assets/colab-badge.svg\" alt=\"Open In Colab\"/></a>"
      ]
    },
    {
      "cell_type": "markdown",
      "source": [
        "# Atividade Avaliativa 04 - Implementação de uma multilayer perceptron para resolução do problema XOR"
      ],
      "metadata": {
        "id": "Kd6q1Xwk6jqN"
      }
    },
    {
      "cell_type": "code",
      "execution_count": null,
      "metadata": {
        "id": "lD1IGxq_GUge"
      },
      "outputs": [],
      "source": [
        "import numpy as np\n",
        "import pandas as pd\n",
        "import math\n",
        "import random"
      ]
    },
    {
      "cell_type": "code",
      "source": [
        "# É O CORRETO\n",
        "\n",
        "final_output = 0\n",
        "output_12_zipped = 0\n",
        "output_1 = 0\n",
        "output_2 = 0\n",
        "w1_12, w1_34, w2 = 0, 0, 0\n",
        "\n",
        "def perceptron(w, b, X, Y=\"NaN\"):\n",
        "  z = np.dot(X, w.T)\n",
        "  a = 1 / (1 + np.exp(-z))\n",
        "  return a\n",
        "\n",
        "def backward(X, Y, lr, epochs):\n",
        "  global final_output, output_12_zipped, output_1, output_2, w1_12, w1_34, w2\n",
        "  w1_12, w1_34, w2 = w1_12.T, w1_34.T, w2.T\n",
        "  # print(\"\\t\\tANTES\\n\", w1_12, w1_34, w2)\n",
        "\n",
        "  y_hats = final_output\n",
        "  dw2 = np.array([0, 0])\n",
        "\n",
        "  for i in range(epochs):\n",
        "    for y_hat, y, output_12 in zip(y_hats, Y, output_12_zipped):\n",
        "      ##### Para o dw2, esse é o correto? PERGUNTAR PARA O PROFESSOR\n",
        "      ## COMO QUE EU FAÇO AQUI QUANDO O Y É 0, EU NORMALIZO ANTES?\n",
        "      dw2 = (1 - y) * (y - y_hat)  * y \n",
        "      print(dw2)  ##TESTE\n",
        "      return 0  ##TESTE\n",
        "      w2[0] = w2[0] - lr * dw2\n",
        "      w2[1] = w2[1] - lr * dw2\n",
        "\n",
        "      #### $$$$  BACKWARD DO PERCEPTRON 1 E DO PERCEPTRON 2  $$$$ ####\n",
        "      dw1_12 = output_12[0]  * (1 - output_12[0]) * dw2\n",
        "      dw1_34 = output_12[1] * (1 - output_12[1]) * dw2\n",
        "      w1_12[0] = w1_12[0] - lr * dw1_12\n",
        "      w1_12[1] = w1_12[1] - lr * dw1_12\n",
        "      w1_34[0] = w1_34[0] - lr * dw1_34\n",
        "      w1_34[1] = w1_34[1] - lr * dw1_34\n",
        "\n",
        "  # print(\"\\t\\tDEPOIS\\n\", w1_12, w1_34, w2)\n",
        "  w1_12, w1_34, w2 = w1_12.T, w1_34.T, w2.T\n",
        "\n",
        "  return w1_12, w1_34, w2\n",
        "\n",
        "\n",
        "def forward(X, Y=\"Nan\", weights=False):\n",
        "  global final_output, output_12_zipped, output_1, output_2, w1_12, w1_34, w2\n",
        "\n",
        "  if not weights:\n",
        "    w1_12 = np.zeros((1, X.shape[1]))\n",
        "    w1_34 = np.zeros((1, X.shape[1]))\n",
        "    w2 = np.zeros((1, X.shape[1]))\n",
        "  else:\n",
        "    pass\n",
        "\n",
        "  b1_12 = 0\n",
        "  b1_34 = 0\n",
        "  b2 = 0\n",
        "\n",
        "  output_1 = perceptron(w1_12, b1_12, X)\n",
        "  output_2 = perceptron(w1_34, b1_34, X)\n",
        "\n",
        "  output_12_zipped = np.stack((output_1, output_2), axis=-1)\n",
        "  output_12_zipped = np.squeeze(output_12_zipped)\n",
        "\n",
        "  final_output = perceptron(w2, b2, output_12_zipped, Y)\n",
        "\n",
        "  return final_output"
      ],
      "metadata": {
        "id": "RJ-nykFhVKBM"
      },
      "execution_count": null,
      "outputs": []
    },
    {
      "cell_type": "code",
      "execution_count": null,
      "metadata": {
        "id": "ueOMzcynnOge"
      },
      "outputs": [],
      "source": [
        "X = np.array([\n",
        "     [0, 0],\n",
        "     [0, 1],\n",
        "     [1, 0],\n",
        "     [1, 1],\n",
        "])\n",
        "Y = np.array([0, 1, 1, 0])"
      ]
    },
    {
      "cell_type": "code",
      "source": [
        "np.random.seed(10)\n",
        "\n",
        "w1_12 = np.random.randn(1, X.shape[1])\n",
        "b1_12 = 0\n",
        "\n",
        "w1_34 = np.random.randn(1, X.shape[1])\n",
        "b1_34 = 0\n",
        "\n",
        "w2 = np.random.randn(1, X.shape[1])\n",
        "b2 = 0\n",
        "\n",
        "print(w1_12, w1_34, w2, sep=\"\\n\\n\")"
      ],
      "metadata": {
        "colab": {
          "base_uri": "https://localhost:8080/"
        },
        "id": "p8TBJ3QKPwfA",
        "outputId": "88b87449-c4d4-43b8-cf29-8c6b7a31ef2b"
      },
      "execution_count": null,
      "outputs": [
        {
          "output_type": "stream",
          "name": "stdout",
          "text": [
            "[[1.3315865  0.71527897]]\n",
            "\n",
            "[[-1.54540029 -0.00838385]]\n",
            "\n",
            "[[ 0.62133597 -0.72008556]]\n"
          ]
        }
      ]
    },
    {
      "cell_type": "code",
      "source": [
        "forward(X, Y, weights=True)"
      ],
      "metadata": {
        "colab": {
          "base_uri": "https://localhost:8080/"
        },
        "id": "FRwfJhsxPvdY",
        "outputId": "fb027db5-03a3-43de-db03-b94ee5e067e6"
      },
      "execution_count": null,
      "outputs": [
        {
          "output_type": "execute_result",
          "data": {
            "text/plain": [
              "array([[0.48765881],\n",
              "       [0.51467952],\n",
              "       [0.59024651],\n",
              "       [0.60458109]])"
            ]
          },
          "metadata": {},
          "execution_count": 307
        }
      ]
    },
    {
      "cell_type": "code",
      "source": [
        "print(w1_12, w1_34, w2, sep=\"\\n\\n\")"
      ],
      "metadata": {
        "colab": {
          "base_uri": "https://localhost:8080/"
        },
        "id": "XKA-tWScUuor",
        "outputId": "cab4b169-5512-4ded-e9db-209a56a902b8"
      },
      "execution_count": null,
      "outputs": [
        {
          "output_type": "stream",
          "name": "stdout",
          "text": [
            "[[1.3315865  0.71527897]]\n",
            "\n",
            "[[-1.54540029 -0.00838385]]\n",
            "\n",
            "[[ 0.62133597 -0.72008556]]\n"
          ]
        }
      ]
    },
    {
      "cell_type": "code",
      "execution_count": null,
      "metadata": {
        "colab": {
          "base_uri": "https://localhost:8080/"
        },
        "id": "GrwiXEiMKJoP",
        "outputId": "6ccdc949-396b-4289-a91d-1700cd5d9b55"
      },
      "outputs": [
        {
          "output_type": "stream",
          "name": "stdout",
          "text": [
            "[-0.]\n"
          ]
        },
        {
          "output_type": "execute_result",
          "data": {
            "text/plain": [
              "0"
            ]
          },
          "metadata": {},
          "execution_count": 317
        }
      ],
      "source": [
        "backward(X, Y, 0.15, 1)"
      ]
    },
    {
      "cell_type": "code",
      "source": [
        "print(w1_12, w1_34, w2, sep=\"\\n\\n\")"
      ],
      "metadata": {
        "colab": {
          "base_uri": "https://localhost:8080/"
        },
        "id": "kGQ367K_Ux6h",
        "outputId": "29288b28-4eff-4064-90d2-853b56f31877"
      },
      "execution_count": null,
      "outputs": [
        {
          "output_type": "stream",
          "name": "stdout",
          "text": [
            "[[1.3315865  0.71527897]]\n",
            "\n",
            "[[-1.54540029 -0.00838385]]\n",
            "\n",
            "[[ 0.62133597 -0.72008556]]\n"
          ]
        }
      ]
    },
    {
      "cell_type": "code",
      "source": [
        "print(forward(np.array([[0, 0]]), weights=True))\n",
        "print(forward(np.array([[0, 1]]), weights=True))\n",
        "print(forward(np.array([[1, 0]]), weights=True))\n",
        "print(forward(np.array([[1, 1]]), weights=True))"
      ],
      "metadata": {
        "colab": {
          "base_uri": "https://localhost:8080/"
        },
        "id": "HMmkIWOZPuxw",
        "outputId": "5d992279-27f3-4403-d8e3-2ba38a1dfbe1"
      },
      "execution_count": null,
      "outputs": [
        {
          "output_type": "stream",
          "name": "stdout",
          "text": [
            "[0.48765881]\n",
            "[0.51467952]\n",
            "[0.59024651]\n",
            "[0.60458109]\n"
          ]
        }
      ]
    }
  ]
}