{
  "nbformat": 4,
  "nbformat_minor": 0,
  "metadata": {
    "colab": {
      "name": "Atividade_avaliativa_07.ipynb",
      "provenance": [],
      "collapsed_sections": [],
      "include_colab_link": true
    },
    "kernelspec": {
      "name": "python3",
      "display_name": "Python 3"
    },
    "language_info": {
      "name": "python"
    }
  },
  "cells": [
    {
      "cell_type": "markdown",
      "metadata": {
        "id": "view-in-github",
        "colab_type": "text"
      },
      "source": [
        "<a href=\"https://colab.research.google.com/github/devthumos/Processamento_de_Linguagem_Natural/blob/main/Atividade_avaliativa_07.ipynb\" target=\"_parent\"><img src=\"https://colab.research.google.com/assets/colab-badge.svg\" alt=\"Open In Colab\"/></a>"
      ]
    },
    {
      "cell_type": "markdown",
      "source": [
        "# Atividade Avaliativa 07"
      ],
      "metadata": {
        "id": "HxeRvIE81xgt"
      }
    },
    {
      "cell_type": "markdown",
      "source": [
        "# Alunos: \n",
        "##### Gabriel Cesário Silva Martins -- 180100912\n",
        "##### Luís Fernando Ferreira Pereira Lopes -- 200023187\n",
        "##### Vitor Vasconcelos de Oliveira -- 180114778"
      ],
      "metadata": {
        "id": "k7srfbQvSMKg"
      }
    },
    {
      "cell_type": "markdown",
      "source": [
        "### Teremos que utilizar o coeficiente Alfa de Krippendorf para encontrarmos a matriz de coincidência"
      ],
      "metadata": {
        "id": "Oi5Q4tQW7u9x"
      }
    },
    {
      "cell_type": "code",
      "source": [
        "!pip install krippendorff"
      ],
      "metadata": {
        "colab": {
          "base_uri": "https://localhost:8080/"
        },
        "id": "Mx4rR5oN9RLq",
        "outputId": "4e8e25d0-5fe2-4c14-9e50-ed9221c75d8d"
      },
      "execution_count": null,
      "outputs": [
        {
          "output_type": "stream",
          "name": "stdout",
          "text": [
            "Looking in indexes: https://pypi.org/simple, https://us-python.pkg.dev/colab-wheels/public/simple/\n",
            "Collecting krippendorff\n",
            "  Downloading krippendorff-0.5.1-py3-none-any.whl (17 kB)\n",
            "Requirement already satisfied: numpy in /usr/local/lib/python3.7/dist-packages (from krippendorff) (1.21.6)\n",
            "Installing collected packages: krippendorff\n",
            "Successfully installed krippendorff-0.5.1\n"
          ]
        }
      ]
    },
    {
      "cell_type": "code",
      "source": [
        "from google.colab import drive\n",
        "drive.mount('/content/drive', force_remount=True)"
      ],
      "metadata": {
        "colab": {
          "base_uri": "https://localhost:8080/"
        },
        "id": "R0_M3btU12CA",
        "outputId": "54e8c135-1d50-4c02-fcb3-c75b50a90fb6"
      },
      "execution_count": null,
      "outputs": [
        {
          "output_type": "stream",
          "name": "stdout",
          "text": [
            "Mounted at /content/drive\n"
          ]
        }
      ]
    },
    {
      "cell_type": "code",
      "source": [
        "import re\n",
        "import pandas as pd\n",
        "import numpy as np\n",
        "import os\n",
        "import json\n",
        "import krippendorff\n",
        "from sklearn.metrics import cohen_kappa_score"
      ],
      "metadata": {
        "id": "y0RKA0Wl2MIa"
      },
      "execution_count": null,
      "outputs": []
    },
    {
      "cell_type": "markdown",
      "source": [
        "# Leitura de arquivos exportados do tagtog \n",
        "# Retornando classificações dos 3 anotadores"
      ],
      "metadata": {
        "id": "zX9NJz-qQntJ"
      }
    },
    {
      "cell_type": "code",
      "source": [
        "## Essa função retorna um dicionário cuja as chaves são os nomes dos usuários\n",
        "# Os valores são dicionários em que as chaves são os arquivos json\n",
        "def data_user(users: str, directory_members: str, debug=False) -> dict:\n",
        "  dict_users = {user: {} for user in users}\n",
        "  if debug:\n",
        "    print(\"\\t\\tdict_data\\n\", dict_users)\n",
        "\n",
        "  for user in users:\n",
        "    user_directory = directory_members + r\"/\" + user + r\"/pool\"\n",
        "\n",
        "    if debug:\n",
        "      print(f\"Collecting from {user_directory}\")\n",
        "\n",
        "    for filename in os.listdir(user_directory):\n",
        "      file = os.path.join(user_directory, filename)\n",
        "\n",
        "      if os.path.isfile(file):\n",
        "        if debug:\n",
        "          print(\"\\t\\t\", get_json_filename(file))\n",
        "        dict_users[user][get_json_filename(file)] = (retrieve_data(file))\n",
        "    \n",
        "  return dict_users\n",
        "\n",
        "\n",
        "## Essa função retorna um dicionário em que as chaves são os usuários\n",
        "# Os valores são listas das classificações de cada usuário\n",
        "def data_annotators(dict_users: dict, main_user, debug=False) -> dict:\n",
        "  dict_annotators = {user: [] for user in dict_users}\n",
        "\n",
        "  for json_file in dict_users[main_user]:\n",
        "    if debug:\n",
        "      print(json_file)\n",
        "    not_add = 0\n",
        "    for user in dict_users:\n",
        "      if user != main_user:\n",
        "        if json_file not in dict_users[user]:\n",
        "          not_add = 1\n",
        "    if not_add == 0:\n",
        "      for user in dict_users:\n",
        "        dict_annotators[user].append(dict_users[user][json_file][\"metas\"][\"m_8\"][\"value\"])\n",
        "    else:\n",
        "      if debug:\n",
        "        print(f\"\\to arquivo {json_file} não foi anotado por um dos dois anotadores\")\n",
        "\n",
        "  if debug:\n",
        "    print(dict_annotators)\n",
        "\n",
        "  return dict_annotators\n",
        "\n",
        "## Essa função retorna apenas o nome do arquivo json sem o restante do seu caminho absoluto\n",
        "def get_json_filename(file: str, debug=False):\n",
        "  json_file = re.split(r\"/\", file)\n",
        "  if debug:\n",
        "    print(json_file[-1])\n",
        "\n",
        "  return json_file[-1]\n",
        "\n",
        "## Essa função retorna o conteúdo nos arquivos json como um dicionário\n",
        "def retrieve_data(file, debug=False) -> dict:\n",
        "  with open(file, \"r\", encoding=\"utf-8\") as f:\n",
        "    json_file = json.load(f)\n",
        "  return json_file"
      ],
      "metadata": {
        "id": "aFH7XQd6397E"
      },
      "execution_count": null,
      "outputs": []
    },
    {
      "cell_type": "code",
      "source": [
        "users = [\"devthumos\",\n",
        "\"VitinXD\",\n",
        "\"g-cesario\",]"
      ],
      "metadata": {
        "id": "m_BE0iXJ6X52"
      },
      "execution_count": null,
      "outputs": []
    },
    {
      "cell_type": "code",
      "source": [
        "dict_users = data_user(users, \"/content/drive/MyDrive/DataPLN/tagtog_ProjetoGabVi (2)/ProjetoGabVi/ann.json/members\")"
      ],
      "metadata": {
        "id": "8Mvo3x4b61HS"
      },
      "execution_count": null,
      "outputs": []
    },
    {
      "cell_type": "code",
      "source": [
        "dict_annotators = data_annotators(dict_users, \"devthumos\")"
      ],
      "metadata": {
        "id": "jgrMUgQ86LXK"
      },
      "execution_count": null,
      "outputs": []
    },
    {
      "cell_type": "code",
      "source": [
        "for i in users:\n",
        "  print(len(dict_annotators[i]))"
      ],
      "metadata": {
        "colab": {
          "base_uri": "https://localhost:8080/"
        },
        "id": "A-S78WOqsvAb",
        "outputId": "c73c0113-d176-43e9-b08e-245fda102c78"
      },
      "execution_count": null,
      "outputs": [
        {
          "output_type": "stream",
          "name": "stdout",
          "text": [
            "50\n",
            "50\n",
            "50\n"
          ]
        }
      ]
    },
    {
      "cell_type": "markdown",
      "source": [
        "# Criação do dataframe de classificações"
      ],
      "metadata": {
        "id": "hYFXPpIwRRrP"
      }
    },
    {
      "cell_type": "code",
      "source": [
        "df = pd.DataFrame.from_dict(dict_annotators)"
      ],
      "metadata": {
        "id": "sNIde_vM_abH"
      },
      "execution_count": null,
      "outputs": []
    },
    {
      "cell_type": "code",
      "source": [
        "df.head()"
      ],
      "metadata": {
        "id": "xwp9pVaxCQZe",
        "colab": {
          "base_uri": "https://localhost:8080/",
          "height": 206
        },
        "outputId": "ad0999f2-3dba-4063-d46f-b4f16dafd970"
      },
      "execution_count": null,
      "outputs": [
        {
          "output_type": "execute_result",
          "data": {
            "text/plain": [
              "  devthumos   VitinXD g-cesario\n",
              "0  Positiva  Positiva  Positiva\n",
              "1  Positiva  Positiva  Positiva\n",
              "2    Neutra  Negativa    Neutra\n",
              "3  Negativa    Neutra  Negativa\n",
              "4  Negativa  Negativa  Negativa"
            ],
            "text/html": [
              "\n",
              "  <div id=\"df-60daef7a-b69a-49e2-947a-fda0a928fb30\">\n",
              "    <div class=\"colab-df-container\">\n",
              "      <div>\n",
              "<style scoped>\n",
              "    .dataframe tbody tr th:only-of-type {\n",
              "        vertical-align: middle;\n",
              "    }\n",
              "\n",
              "    .dataframe tbody tr th {\n",
              "        vertical-align: top;\n",
              "    }\n",
              "\n",
              "    .dataframe thead th {\n",
              "        text-align: right;\n",
              "    }\n",
              "</style>\n",
              "<table border=\"1\" class=\"dataframe\">\n",
              "  <thead>\n",
              "    <tr style=\"text-align: right;\">\n",
              "      <th></th>\n",
              "      <th>devthumos</th>\n",
              "      <th>VitinXD</th>\n",
              "      <th>g-cesario</th>\n",
              "    </tr>\n",
              "  </thead>\n",
              "  <tbody>\n",
              "    <tr>\n",
              "      <th>0</th>\n",
              "      <td>Positiva</td>\n",
              "      <td>Positiva</td>\n",
              "      <td>Positiva</td>\n",
              "    </tr>\n",
              "    <tr>\n",
              "      <th>1</th>\n",
              "      <td>Positiva</td>\n",
              "      <td>Positiva</td>\n",
              "      <td>Positiva</td>\n",
              "    </tr>\n",
              "    <tr>\n",
              "      <th>2</th>\n",
              "      <td>Neutra</td>\n",
              "      <td>Negativa</td>\n",
              "      <td>Neutra</td>\n",
              "    </tr>\n",
              "    <tr>\n",
              "      <th>3</th>\n",
              "      <td>Negativa</td>\n",
              "      <td>Neutra</td>\n",
              "      <td>Negativa</td>\n",
              "    </tr>\n",
              "    <tr>\n",
              "      <th>4</th>\n",
              "      <td>Negativa</td>\n",
              "      <td>Negativa</td>\n",
              "      <td>Negativa</td>\n",
              "    </tr>\n",
              "  </tbody>\n",
              "</table>\n",
              "</div>\n",
              "      <button class=\"colab-df-convert\" onclick=\"convertToInteractive('df-60daef7a-b69a-49e2-947a-fda0a928fb30')\"\n",
              "              title=\"Convert this dataframe to an interactive table.\"\n",
              "              style=\"display:none;\">\n",
              "        \n",
              "  <svg xmlns=\"http://www.w3.org/2000/svg\" height=\"24px\"viewBox=\"0 0 24 24\"\n",
              "       width=\"24px\">\n",
              "    <path d=\"M0 0h24v24H0V0z\" fill=\"none\"/>\n",
              "    <path d=\"M18.56 5.44l.94 2.06.94-2.06 2.06-.94-2.06-.94-.94-2.06-.94 2.06-2.06.94zm-11 1L8.5 8.5l.94-2.06 2.06-.94-2.06-.94L8.5 2.5l-.94 2.06-2.06.94zm10 10l.94 2.06.94-2.06 2.06-.94-2.06-.94-.94-2.06-.94 2.06-2.06.94z\"/><path d=\"M17.41 7.96l-1.37-1.37c-.4-.4-.92-.59-1.43-.59-.52 0-1.04.2-1.43.59L10.3 9.45l-7.72 7.72c-.78.78-.78 2.05 0 2.83L4 21.41c.39.39.9.59 1.41.59.51 0 1.02-.2 1.41-.59l7.78-7.78 2.81-2.81c.8-.78.8-2.07 0-2.86zM5.41 20L4 18.59l7.72-7.72 1.47 1.35L5.41 20z\"/>\n",
              "  </svg>\n",
              "      </button>\n",
              "      \n",
              "  <style>\n",
              "    .colab-df-container {\n",
              "      display:flex;\n",
              "      flex-wrap:wrap;\n",
              "      gap: 12px;\n",
              "    }\n",
              "\n",
              "    .colab-df-convert {\n",
              "      background-color: #E8F0FE;\n",
              "      border: none;\n",
              "      border-radius: 50%;\n",
              "      cursor: pointer;\n",
              "      display: none;\n",
              "      fill: #1967D2;\n",
              "      height: 32px;\n",
              "      padding: 0 0 0 0;\n",
              "      width: 32px;\n",
              "    }\n",
              "\n",
              "    .colab-df-convert:hover {\n",
              "      background-color: #E2EBFA;\n",
              "      box-shadow: 0px 1px 2px rgba(60, 64, 67, 0.3), 0px 1px 3px 1px rgba(60, 64, 67, 0.15);\n",
              "      fill: #174EA6;\n",
              "    }\n",
              "\n",
              "    [theme=dark] .colab-df-convert {\n",
              "      background-color: #3B4455;\n",
              "      fill: #D2E3FC;\n",
              "    }\n",
              "\n",
              "    [theme=dark] .colab-df-convert:hover {\n",
              "      background-color: #434B5C;\n",
              "      box-shadow: 0px 1px 3px 1px rgba(0, 0, 0, 0.15);\n",
              "      filter: drop-shadow(0px 1px 2px rgba(0, 0, 0, 0.3));\n",
              "      fill: #FFFFFF;\n",
              "    }\n",
              "  </style>\n",
              "\n",
              "      <script>\n",
              "        const buttonEl =\n",
              "          document.querySelector('#df-60daef7a-b69a-49e2-947a-fda0a928fb30 button.colab-df-convert');\n",
              "        buttonEl.style.display =\n",
              "          google.colab.kernel.accessAllowed ? 'block' : 'none';\n",
              "\n",
              "        async function convertToInteractive(key) {\n",
              "          const element = document.querySelector('#df-60daef7a-b69a-49e2-947a-fda0a928fb30');\n",
              "          const dataTable =\n",
              "            await google.colab.kernel.invokeFunction('convertToInteractive',\n",
              "                                                     [key], {});\n",
              "          if (!dataTable) return;\n",
              "\n",
              "          const docLinkHtml = 'Like what you see? Visit the ' +\n",
              "            '<a target=\"_blank\" href=https://colab.research.google.com/notebooks/data_table.ipynb>data table notebook</a>'\n",
              "            + ' to learn more about interactive tables.';\n",
              "          element.innerHTML = '';\n",
              "          dataTable['output_type'] = 'display_data';\n",
              "          await google.colab.output.renderOutput(dataTable, element);\n",
              "          const docLink = document.createElement('div');\n",
              "          docLink.innerHTML = docLinkHtml;\n",
              "          element.appendChild(docLink);\n",
              "        }\n",
              "      </script>\n",
              "    </div>\n",
              "  </div>\n",
              "  "
            ]
          },
          "metadata": {},
          "execution_count": 131
        }
      ]
    },
    {
      "cell_type": "code",
      "source": [
        "df.info()"
      ],
      "metadata": {
        "colab": {
          "base_uri": "https://localhost:8080/"
        },
        "id": "K2oSVXA5EmYc",
        "outputId": "5618ba72-e5ef-4108-a132-c744296faed4"
      },
      "execution_count": null,
      "outputs": [
        {
          "output_type": "stream",
          "name": "stdout",
          "text": [
            "<class 'pandas.core.frame.DataFrame'>\n",
            "RangeIndex: 50 entries, 0 to 49\n",
            "Data columns (total 3 columns):\n",
            " #   Column     Non-Null Count  Dtype \n",
            "---  ------     --------------  ----- \n",
            " 0   devthumos  50 non-null     object\n",
            " 1   VitinXD    50 non-null     object\n",
            " 2   g-cesario  50 non-null     object\n",
            "dtypes: object(3)\n",
            "memory usage: 1.3+ KB\n"
          ]
        }
      ]
    },
    {
      "cell_type": "markdown",
      "source": [
        "# Tranformando Dataframe em Matriz de valores"
      ],
      "metadata": {
        "id": "e2WzazHqRu9O"
      }
    },
    {
      "cell_type": "code",
      "source": [
        "corpus_transpose = []\n",
        "\n",
        "for atrib in df:\n",
        "    lista = np.array(df[atrib])\n",
        "    corpus_transpose.append(list(lista.T))"
      ],
      "metadata": {
        "id": "lV_CBv9FGLay"
      },
      "execution_count": null,
      "outputs": []
    },
    {
      "cell_type": "markdown",
      "source": [
        "corpus_tranpose de forma resumida"
      ],
      "metadata": {
        "id": "oe6qfl-3EC7k"
      }
    },
    {
      "cell_type": "code",
      "source": [
        "for i in range(len(corpus_transpose)):\n",
        "  print(corpus_transpose[i][:5])"
      ],
      "metadata": {
        "colab": {
          "base_uri": "https://localhost:8080/"
        },
        "id": "fFDnMmvAHH2I",
        "outputId": "ebf7f8a0-1bc6-4118-8a3c-314ed1b0f907"
      },
      "execution_count": null,
      "outputs": [
        {
          "output_type": "stream",
          "name": "stdout",
          "text": [
            "['Positiva', 'Positiva', 'Neutra', 'Negativa', 'Negativa']\n",
            "['Positiva', 'Positiva', 'Negativa', 'Neutra', 'Negativa']\n",
            "['Positiva', 'Positiva', 'Neutra', 'Negativa', 'Negativa']\n"
          ]
        }
      ]
    },
    {
      "cell_type": "code",
      "source": [
        "mapping = {'Positiva' : 2, 'Neutra' : 1, 'Negativa' : 0}"
      ],
      "metadata": {
        "id": "EOI36A4ZHK-l"
      },
      "execution_count": null,
      "outputs": []
    },
    {
      "cell_type": "code",
      "source": [
        "corpus_transpose_int = []\n",
        "\n",
        "for labels in corpus_transpose:\n",
        "    t = []\n",
        "    for doc in labels:\n",
        "        t.append(mapping[doc])\n",
        "    corpus_transpose_int.append(t)"
      ],
      "metadata": {
        "id": "iFVoFmQ-HMwq"
      },
      "execution_count": null,
      "outputs": []
    },
    {
      "cell_type": "markdown",
      "source": [
        "corpus_tranpose_int de forma resumida"
      ],
      "metadata": {
        "id": "MSDH_KG4EHOc"
      }
    },
    {
      "cell_type": "code",
      "source": [
        "for i in range(len(corpus_transpose_int)):\n",
        "  print(corpus_transpose_int[i][:5])"
      ],
      "metadata": {
        "colab": {
          "base_uri": "https://localhost:8080/"
        },
        "id": "664vRRIOD-cA",
        "outputId": "8bf31f14-19e7-4e01-ed6f-3f73a2944cf1"
      },
      "execution_count": null,
      "outputs": [
        {
          "output_type": "stream",
          "name": "stdout",
          "text": [
            "[2, 2, 1, 0, 0]\n",
            "[2, 2, 0, 1, 0]\n",
            "[2, 2, 1, 0, 0]\n"
          ]
        }
      ]
    },
    {
      "cell_type": "markdown",
      "source": [
        "# Coeficiente de Cohen's Kappa "
      ],
      "metadata": {
        "id": "dyyp2hTaR_Vq"
      }
    },
    {
      "cell_type": "code",
      "source": [
        "print(cohen_kappa_score(corpus_transpose[0], corpus_transpose[1]))"
      ],
      "metadata": {
        "colab": {
          "base_uri": "https://localhost:8080/"
        },
        "id": "nPtRPuZaHOOn",
        "outputId": "8368dd52-cd8b-4ee7-f2b4-b6ef3abd04c6"
      },
      "execution_count": null,
      "outputs": [
        {
          "output_type": "stream",
          "name": "stdout",
          "text": [
            "0.7494631352899069\n"
          ]
        }
      ]
    },
    {
      "cell_type": "markdown",
      "source": [
        "# Coeficiente de Krippendorff"
      ],
      "metadata": {
        "id": "E4ng2SQdSDXH"
      }
    },
    {
      "cell_type": "code",
      "source": [
        "print(\"Krippendorff's alpha for nominal metric: \", krippendorff.alpha(reliability_data=corpus_transpose_int,\n",
        "                                                                          level_of_measurement=\"nominal\"))\n",
        "\n",
        "print(\"Krippendorff's alpha for nominal metric: \", krippendorff.alpha(value_counts=corpus_transpose_int,\n",
        "                                                                          level_of_measurement=\"nominal\"))"
      ],
      "metadata": {
        "colab": {
          "base_uri": "https://localhost:8080/"
        },
        "outputId": "8710ea19-2cdd-45ef-c29d-b2bf1bdd542d",
        "id": "Mj1pCapLcZMu"
      },
      "execution_count": null,
      "outputs": [
        {
          "output_type": "stream",
          "name": "stdout",
          "text": [
            "Krippendorff's alpha for nominal metric:  0.8309014267185473\n",
            "Krippendorff's alpha for nominal metric:  -0.009083469591353754\n"
          ]
        }
      ]
    },
    {
      "cell_type": "code",
      "source": [
        ""
      ],
      "metadata": {
        "id": "9VJ_A8blBQnf"
      },
      "execution_count": null,
      "outputs": []
    }
  ]
}