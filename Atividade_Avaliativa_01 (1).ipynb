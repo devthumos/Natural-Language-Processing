{
  "nbformat": 4,
  "nbformat_minor": 0,
  "metadata": {
    "colab": {
      "name": "Atividade_Avaliativa_01.ipynb",
      "provenance": [],
      "collapsed_sections": []
    },
    "kernelspec": {
      "name": "python3",
      "display_name": "Python 3"
    },
    "language_info": {
      "name": "python"
    }
  },
  "cells": [
    {
      "cell_type": "markdown",
      "source": [
        "# ATIVIDADE AVALIATIVA 01"
      ],
      "metadata": {
        "id": "GsStgRa7sgfQ"
      }
    },
    {
      "cell_type": "code",
      "source": [
        "import pandas as pd\n",
        "import re\n",
        "\n",
        "dataset = pd.read_csv(\"https://raw.githubusercontent.com/viniciusrpb/cic0269_natural_language_processing/main/diario_oficial_pref_sp/dosp_29012016.csv\")\n",
        "dataset"
      ],
      "metadata": {
        "id": "0xozXD7xsiOg"
      },
      "execution_count": null,
      "outputs": []
    },
    {
      "cell_type": "code",
      "source": [
        "data_text = dataset[[\"Texto\"]]\n",
        "data_text.head()"
      ],
      "metadata": {
        "id": "lV6k4mChsnUI"
      },
      "execution_count": null,
      "outputs": []
    },
    {
      "cell_type": "code",
      "source": [
        "data_text.info()"
      ],
      "metadata": {
        "id": "T8oaT8qbtXrP"
      },
      "execution_count": null,
      "outputs": []
    },
    {
      "cell_type": "markdown",
      "source": [
        "## We want to extract three camps from Text:\n",
        "\n",
        "- Título da Publicação\n",
        "- Número do Processo\n",
        "- Valor (Valor Global): valor real após \"R$\""
      ],
      "metadata": {
        "id": "z_IfZ0Tps9NA"
      }
    },
    {
      "cell_type": "markdown",
      "source": [
        "I looked at the entire file's content and I came to the following conclusion: \n",
        "<br>\n",
        "<br>\n",
        "\n",
        "- The title starts at least with \"TITULO)\" and ends at least with \"(TEXTO)\" or \\n, being case insensitive\n",
        "\n",
        "<br>\n",
        "<br>\n",
        "\n",
        "I say that because there are some titles starting with \"TITULO)\" or \"(TITULO) and there are some \"TITULO\" words in TEXTO\n",
        "\n",
        "<br>\n",
        "\n",
        "And there are not \"(TEXTO)\" words in TEXTO \n"
      ],
      "metadata": {
        "id": "HrNJvXcyt2MI"
      }
    },
    {
      "cell_type": "code",
      "source": [
        "data_text.Texto[0]"
      ],
      "metadata": {
        "id": "fXtUpDsxtrCm"
      },
      "execution_count": null,
      "outputs": []
    },
    {
      "cell_type": "markdown",
      "source": [
        "## Extracting the Title Camp"
      ],
      "metadata": {
        "id": "zBZXnHS8tvOQ"
      }
    },
    {
      "cell_type": "code",
      "source": [
        "pattern1 = r\"(^(?:\\(?\\(?T[ÍÌI]T[ÚÙU]LO\\)).+(?:\\(?\\(TEXTO\\)\\)?))\"  ## Pegar o TITULO e o restante do conteúdo até o TEXTO\n",
        "pattern2 = r\"(.+)\" ## Pegar o TITULO até o \\n mais próximo, se tiver\n",
        "pattern3 = r\"\\(?\\(?T[ÍÌI]T[ÚÙU]LO\\)\\)?|\\(?\\(TEXTO\\)\\)?|\\(?\\(CL\\)\\)?|\\(?\\(NG\\)\\)?\"  ## Substituindo as tags (TITULO) E (TEXTO) E (NG) e (CL)\n",
        "\n",
        "# pattern1 = r\"(^(?:\\(?\\(?T[ÍÌI]T[ÚÙU]LO\\)).+(?:\\(?\\(TEXTO\\)\\)?))\"  ## Pegar o TITULO e o restante do conteúdo até o TEXTO, Prevenir esse caso aki ((TITULO))((TEXTO))\\n\\n \\n((TITULO))\n",
        "# pattern2 = r\"[(?:(?:\\(?\\(TEXTO\\)\\))|(?:\\(?\\(?T[ÍÌI]T[ÚÙU]LO\\)))]*(.+)[(?:(?:\\(?\\(TEXTO\\)\\))|(?:\\(?\\(?T[ÍÌI]T[ÚÙU]LO\\)))]*\"\n",
        "# pattern3 = r\"(.+)(?:\\(?\\(TEXTO\\)\\)?)\" ## Pegar o TITULO até o \\n mais próximo, se tiver\n",
        "# pattern4 = r\"\\(?\\(?T[ÍÌI]T[ÚÙU]LO\\)\\)?|\\(?\\(TEXTO\\)\\)?|\\(?\\(CL\\)\\)?|\\(?\\(NG\\)\\)?\"  ## Substituindo as tags (TITULO) E (TEXTO) E (NG) e (CL)\n",
        "\n",
        "## TESTE\n",
        "# result = re.search(pattern1, \"((TITULO))((TEXTO))\\n\\n \\n((TITULO))GABINETE DO SUBPREFEITO\\n\\n \\n\\n((TEXTO))DESPACHO\\n\\n PA:2016-0.018.185-2\\n\\nINTERESSADO: SUBPREFEITURA PERUS\\nASSUNTO: ((NG))AUTORIZAÇÃO ((CL))PARA EMPENHAMENTO DE AUXÍLIO REFEIÇÃO\\n\\nI - DESPACHO:\\n\\n \\n 1- No uso da competência a mim delegada pela Lei Municipal 13.399/2002 art. 9º, XX e XXI, \\n\\ne com fundamento na Lei 13.598 de 05 de junho de 2003,((NG)) AUTORIZO((CL)) a despesa e emissão das respectivas \\n\\nNotas de Empenho, no valor estimativo de R$ 750.900,21 (setecentos e cinquenta mil e novecentos reais e vinte e um \\n\\ncentavos), bem como as complementações que se fizerem necessárias durante o exercício de 2016, para cobertura das \\n\\ndespesas com AUXILIO REFEIÇÃO, a ser utilizado pelos servidores desta SUBPREFEITURA PERUS CNPJ 00.050.231/0000-00, \\n\\n onerando a dotação 41.10.15.122.3024.2100.3.3.90.46.00 no presente exercício, em conformidade com a liberação das \\n\\ncotas orçamentárias/financeiras que viere...\t\",flags=re.I | re.DOTALL)\n",
        "# print(result.group(), end=\"__________\")\n",
        "# result = re.search(pattern2, result.group(), flags=re.I | re.DOTALL)\n",
        "# print(result.group(), end=\"__________\")\n",
        "# result = re.search(pattern3, result.group(), flags=re.I)\n",
        "# print(result.group(), end=\"__________\")\n",
        "# result = re.sub(pattern4, \"\", result.group(), flags=re.I)\n",
        "\n",
        "# print(result)"
      ],
      "metadata": {
        "id": "f9dWDbWWWunL"
      },
      "execution_count": null,
      "outputs": []
    },
    {
      "cell_type": "code",
      "source": [
        "data_text[\"Title\"] = data_text.Texto.str.extract(pattern1, flags=re.I | re.DOTALL) ## Pegando o Título\n",
        "data_text[\"Title\"] = data_text.Title.str.extract(pattern2, flags=re.I) ## Pegando até o \\n\n",
        "data_text[\"Title\"] = data_text.Title.str.replace(pattern3, \"\", regex=True, flags=re.I)\n",
        "data_text[\"Title\"] = data_text.Title.str.replace(pattern3, \"\", regex=True, flags=re.I).str.strip()\n",
        "data_text.Title[data_text.Title.str.len() == 0] = \"NaN\"  ## Replacing \"\" Titles, aparece quando tem ((TITULO))((TEXTO))\n",
        "\n",
        "data_text"
      ],
      "metadata": {
        "id": "QU3I_o6zxN9-"
      },
      "execution_count": null,
      "outputs": []
    },
    {
      "cell_type": "markdown",
      "source": [
        "## Extracting the Process's Number"
      ],
      "metadata": {
        "id": "GFXNuylQ19yd"
      }
    },
    {
      "cell_type": "markdown",
      "source": [
        "Pelo o que eu vi, muitos números de processo vêm acompanhados da palavra processo ou semelhantes"
      ],
      "metadata": {
        "id": "aw3GOJIj2GpF"
      }
    },
    {
      "cell_type": "code",
      "source": [
        "## Testando\n",
        "pattern1 = r\"[^(?:processo)]*[(?:processo)|(?:processo)|(?:pa)|(?:proc)]+[^0-9|(?:DE)]{0,25}([0-9|\\.|\\-|/]{7,25})\"  ## Para pegar os que tem a palavra processo do lado e semelhantes\n",
        "pattern2 = r\"[^0-9]\"\n",
        "\n",
        "# ## Teste nos pattern 1 e pattern 2\n",
        "# result = re.search(pattern1, \"Dwhaudiwad Processo Sei 31928301-12391/23\\n\\n\", flags=re.I)\n",
        "# result = re.sub(pattern2, \"\", result.group())"
      ],
      "metadata": {
        "id": "XyTLZr3p2E_G"
      },
      "execution_count": null,
      "outputs": []
    },
    {
      "cell_type": "code",
      "source": [
        "data_text[\"Process\"] = data_text.Texto.str.extract(pattern1, flags=re.I)\n",
        "data_text[\"Process\"] = data_text.Process.str.replace(pattern2, \"\").str.strip()\n",
        "data_text.Process[data_text.Process.str.len() == 0] = \"NaN\"\n",
        "data_text[[\"Texto\", \"Process\"]]"
      ],
      "metadata": {
        "id": "kuKPO65-47Sz"
      },
      "execution_count": null,
      "outputs": []
    },
    {
      "cell_type": "markdown",
      "source": [
        "## Extracting Valor (Valor Global): valor real após \"R$\""
      ],
      "metadata": {
        "id": "t9hWzhnKNaQK"
      }
    },
    {
      "cell_type": "code",
      "source": [
        "## Testando\n",
        "# pattern1 = r\".*Valor\\s+Global\\s+R$\\s+([0-9|\\.|\\-|/|,]+)[^0-9|\\.|\\-|/|,]\"  ## Para pegar os que tem a palavra processo do lado e semelhantes\n",
        "pattern1 = r\".*(?:VALOR)+\\s*(?:GLOBAL)+\\s*[^$]+\\$\\s*([0-9|\\.|,]+)\"  ## Para pegar os que tem a palavra processo do lado e semelhantes\n",
        "pattern2 = r\"([^0-9|\\.|,]+)\"\n",
        "\n",
        "# ## Teste nos pattern 1 e pattern 2\n",
        "# result = re.search(pattern1, \"((NG))VALOR GLOBAL: ((CL))R$ 60.000,00 (sessenta mil reais), a serem pagos em até 30 (trinta) dias, após a confirmação da execução dos serviços pela unidade requisitante.\", flags=re.I | re.DOTALL)\n",
        "# print(result.group())\n",
        "# result = re.sub(pattern2, \"\", result.group())\n",
        "# print(result)"
      ],
      "metadata": {
        "id": "zTLXsjKPNyuc"
      },
      "execution_count": null,
      "outputs": []
    },
    {
      "cell_type": "code",
      "source": [
        "data_text[\"Global_Value\"] = data_text.Texto.str.extract(pattern1, flags=re.I | re.DOTALL).str.strip()\n",
        "# data_text[\"Global_Value\"] = data_text.Texto.str.replace(pattern2, \"\", flags=re.I | re.DOTALL)\n",
        "data_text.Global_Value[data_text.Global_Value.str.len() == 0] = \"NaN\"\n",
        "# data_text[[\"Texto\", \"Global_Value\"]]"
      ],
      "metadata": {
        "id": "v0FXjBQXQt4z"
      },
      "execution_count": null,
      "outputs": []
    }
  ]
}